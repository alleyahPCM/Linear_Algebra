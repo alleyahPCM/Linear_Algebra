{
 "cells": [
  {
   "cell_type": "code",
   "execution_count": 1,
   "id": "c993c935-ff61-4cd1-b32c-fd672f706416",
   "metadata": {},
   "outputs": [],
   "source": [
    "import numpy as np"
   ]
  },
  {
   "cell_type": "markdown",
   "id": "4d6b80b5-c702-429b-8c89-4bc94d9f2fc6",
   "metadata": {},
   "source": [
    "$1.\\ Let \\ \\textbf{u} = (1,-2,4) \\ \\textbf{v} = (3,5,1) \\ \\textbf{w} = (2,1,-3)$ <br>\n",
    "$a. 3\\textbf{u} -2\\textbf{v}$<br>\n",
    "$= 3[1,-2,4] - 2[3,5,1]$<br>\n",
    "$= [3,-6,12] - [6,10,2]$<br>\n",
    "$= [3-6,(-6)-10,12-2]$<br>\n",
    "$= [-3, -16, 10]$<br>"
   ]
  },
  {
   "cell_type": "code",
   "execution_count": 2,
   "id": "4c579547-8057-4630-8ecf-a35301a0fd3b",
   "metadata": {},
   "outputs": [
    {
     "name": "stdout",
     "output_type": "stream",
     "text": [
      "3u-2v =  [ -3 -16  10]\n"
     ]
    }
   ],
   "source": [
    "u = np.array([1,-2,4])\n",
    "v = np.array([3,5,1])\n",
    "w = np.array([2,1,-3])\n",
    "print(\"3u-2v = \", (3*u) - (2*v))"
   ]
  },
  {
   "cell_type": "markdown",
   "id": "06303e6f-7312-4e83-af62-549e9d6453f8",
   "metadata": {},
   "source": [
    "$b. 5\\textbf{u} + 3\\textbf{v} - 4\\textbf{w}$<br>\n",
    "$= 5[1,-2,4] + 3[3,5,1] - 4[2,1,-3]$<br>\n",
    "$= [5,-10,20] + [9,15,3] - [8,4,-12]$<br>\n",
    "$= [5+9-8,(-10)+15-4,20+3-(-12)]$<br>\n",
    "$= [6, 1, 35]$<br>"
   ]
  },
  {
   "cell_type": "code",
   "execution_count": 3,
   "id": "03cfb091-6f4f-4acb-bd24-00ce8495056e",
   "metadata": {},
   "outputs": [
    {
     "name": "stdout",
     "output_type": "stream",
     "text": [
      "5u + 3v - 4w =  [ 6  1 35]\n"
     ]
    }
   ],
   "source": [
    "u = np.array([1,-2,4])\n",
    "v = np.array([3,5,1])\n",
    "w = np.array([2,1,-3])\n",
    "print(\"5u + 3v - 4w = \", (5*u) + (3*v) - (4*w))"
   ]
  },
  {
   "cell_type": "markdown",
   "id": "f10df5b5-49c9-4fc5-bb89-458094234d86",
   "metadata": {},
   "source": [
    "$c. \\textbf{u} . \\textbf{v}, \\textbf{v} . \\textbf{w}, \\textbf{u} . \\textbf{w}$<br>\n",
    "$\\textbf{u} . \\textbf{v} = 1(3) + (-2)5 + 4(1)$ <br>\n",
    "$= 3 + (-10) + 4$<br>\n",
    "$= -3$<br>\n",
    "$\\textbf{v} . \\textbf{w} = 3(2) + 5(1) + 1(-3)$<br>\n",
    "$= 6 + 5 + (-3)$<br>\n",
    "$= 8$<br>\n",
    "$\\textbf{u} . \\textbf{w} = 1(2) + (-2)1 + 4(-3)$<br>\n",
    "$= 2 + (-2) + (-12)$<br>\n",
    "$= -12$<br>\n"
   ]
  },
  {
   "cell_type": "code",
   "execution_count": 4,
   "id": "5360692a-f66f-4eaf-b741-70ba0caa3c5a",
   "metadata": {},
   "outputs": [
    {
     "name": "stdout",
     "output_type": "stream",
     "text": [
      "u.v:  -3\n",
      "v.w:  8\n",
      "u.w:  -12\n"
     ]
    }
   ],
   "source": [
    "u = np.array([1,-2,4])\n",
    "v = np.array([3,5,1])\n",
    "w = np.array([2,1,-3])\n",
    "print(\"u.v: \", u.dot(v))\n",
    "print(\"v.w: \", v.dot(w))\n",
    "print(\"u.w: \", u.dot(w))"
   ]
  },
  {
   "cell_type": "markdown",
   "id": "3ce61144-9e5b-4a61-b630-965e996fb764",
   "metadata": {},
   "source": [
    "$d. ||\\textbf{u}||, ||\\textbf{v}||, ||\\textbf{w}||$ <br>\n",
    "$||\\textbf{u}|| = \\sqrt{1^2 + (-2)^2 + 4^2}$ <br>\n",
    "$= \\sqrt{1 + 4 + 16}$ <br>\n",
    "$= \\sqrt{21}$ <br>\n",
    "$||\\textbf{v}|| = \\sqrt{3^2 + 5^2 + 1^2}$ <br>\n",
    "$= \\sqrt{9 + 25 + 1}$ <br>\n",
    "$= \\sqrt{35}$ <br>\n",
    "$||\\textbf{w}|| = \\sqrt{2^2 + 1^2 + (-3)^2}$<br>\n",
    "$= \\sqrt{4 + 1 + 9}$ <br>\n",
    "$= \\sqrt{14}$ <br>"
   ]
  },
  {
   "cell_type": "code",
   "execution_count": 5,
   "id": "5c850258-275b-4b62-bd47-540d0271bb7f",
   "metadata": {},
   "outputs": [
    {
     "name": "stdout",
     "output_type": "stream",
     "text": [
      "||u||:  4.58257569495584\n",
      "||v||:  5.916079783099616\n",
      "||w||:  3.7416573867739413\n"
     ]
    }
   ],
   "source": [
    "u = np.array([1,-2,4])\n",
    "v = np.array([3,5,1])\n",
    "w = np.array([2,1,-3])\n",
    "print(\"||u||: \",np.sqrt(u.dot(u)))\n",
    "print(\"||v||: \",np.sqrt(v.dot(v)))\n",
    "print(\"||w||: \",np.sqrt(w.dot(w)))"
   ]
  },
  {
   "cell_type": "markdown",
   "id": "434be4e0-9f9b-47be-9f36-869300b69efe",
   "metadata": {},
   "source": [
    "$e. If \\ {\\theta}$ is the angle between $\\textbf{u} \\ and \\ \\textbf{v}, find \\ cos \\ {\\theta}.$  <br>\n",
    "$cos \\ {\\theta} = \\frac{\\textbf{u} \\cdotp \\textbf{v}}{||\\textbf{u}|| \\ ||\\textbf{v}||}$ <br>\n",
    "$= \\frac{-3}{\\sqrt{21}\\sqrt{35}}$ <br>"
   ]
  },
  {
   "cell_type": "code",
   "execution_count": 6,
   "id": "5e1fce43-cf49-46a5-aa15-3da9f62a683f",
   "metadata": {},
   "outputs": [
    {
     "name": "stdout",
     "output_type": "stream",
     "text": [
      "angle:  -0.11065666703449763\n"
     ]
    }
   ],
   "source": [
    "u = np.array([1,-2,4])\n",
    "v = np.array([3,5,1])\n",
    "w = np.array([2,1,-3])\n",
    "print(\"angle: \", u.dot(v) / (np.linalg.norm(u) * np.linalg.norm(v)))"
   ]
  },
  {
   "cell_type": "markdown",
   "id": "9cb935c8-ee91-4671-8aa4-1e69b6e2ad4d",
   "metadata": {},
   "source": [
    "$f. If \\ \\alpha$ is the angle between $\\textbf{v} \\ and \\ \\textbf{w}, find \\ \\cos{\\alpha}.$ <br>\n",
    "$cos \\ {\\alpha} = \\frac{\\textbf{v} \\cdotp \\textbf{w}}{||\\textbf{v}|| \\ ||\\textbf{w}||}$ <br>\n",
    "$= \\frac{8}{\\sqrt{35}\\sqrt{14}}$ <br>"
   ]
  },
  {
   "cell_type": "code",
   "execution_count": 7,
   "id": "d12b1946-e45f-4395-b7ec-5ac58b016f13",
   "metadata": {},
   "outputs": [
    {
     "name": "stdout",
     "output_type": "stream",
     "text": [
      "angle:  0.36140316116210053\n"
     ]
    }
   ],
   "source": [
    "u = np.array([1,-2,4])\n",
    "v = np.array([3,5,1])\n",
    "w = np.array([2,1,-3])\n",
    "print(\"angle: \", v.dot(w) / (np.linalg.norm(v) * np.linalg.norm(w)))"
   ]
  },
  {
   "cell_type": "markdown",
   "id": "1f2483f2-9854-47f0-94a0-f6ae4b728ca2",
   "metadata": {},
   "source": [
    "$g. If \\ \\beta$ is the angle between $\\textbf{u} \\ and \\ \\textbf{w}, find \\ \\cos{\\beta}.$ <br>\n",
    "$\\cos{\\beta} = $ $\\frac{\\textbf{u} \\cdotp \\textbf{w}}{||\\textbf{u}|| \\ ||\\textbf{w}||}$ <br>\n",
    "$= \\frac{-12}{\\sqrt{21}\\sqrt{14}}$ <br>"
   ]
  },
  {
   "cell_type": "code",
   "execution_count": 8,
   "id": "b5afddf2-1d93-4afe-bb05-b9a3789dc579",
   "metadata": {},
   "outputs": [
    {
     "name": "stdout",
     "output_type": "stream",
     "text": [
      "angle:  -0.6998542122237653\n"
     ]
    }
   ],
   "source": [
    "u = np.array([1,-2,4])\n",
    "v = np.array([3,5,1])\n",
    "w = np.array([2,1,-3])\n",
    "print(\"angle: \", u.dot(w) / (np.linalg.norm(u) * np.linalg.norm(w)))"
   ]
  },
  {
   "cell_type": "markdown",
   "id": "cf5338b7-1cf6-4009-bd79-6dd9e3cec5d6",
   "metadata": {},
   "source": [
    "$h. Find \\ d(\\textbf{u},\\textbf{v})$ <br>\n",
    "$= ||\\textbf{u} - \\textbf{v}||$ <br>\n",
    "$= \\sqrt{(1-3)^2 + (-2-5)^2 + (4-1)^2}$ <br>\n",
    "$= \\sqrt{(-2)^2 + (-7)^2 + (3)^2}$ <br>\n",
    "$= \\sqrt{4 + 49 + 9}$ <br>\n",
    "$= \\sqrt{62}$"
   ]
  },
  {
   "cell_type": "code",
   "execution_count": 9,
   "id": "ae01d109-b4da-4cec-8b1b-acb520dc6e26",
   "metadata": {},
   "outputs": [
    {
     "name": "stdout",
     "output_type": "stream",
     "text": [
      "d(u,v):  7.874007874011811\n"
     ]
    }
   ],
   "source": [
    "u = np.array([1,-2,4])\n",
    "v = np.array([3,5,1])\n",
    "w = np.array([2,1,-3])\n",
    "print(\"d(u,v): \", np.linalg.norm(u-v))"
   ]
  },
  {
   "cell_type": "markdown",
   "id": "585afe06-8e3d-4536-9e55-6416b79f3912",
   "metadata": {},
   "source": [
    "$i. Find \\ d(\\textbf{w},\\textbf{v})$ <br>\n",
    "$= ||\\textbf{w} - \\textbf{v}||$ <br>\n",
    "$= \\sqrt{(2-3)^2 + (1-5)^2 + (-3-1)^2}$ <br>\n",
    "$= \\sqrt{(-1)^2 + (-4)^2 + (-4)^2}$ <br>\n",
    "$= \\sqrt{1 + 16 + 16}$ <br>\n",
    "$= \\sqrt{33}$"
   ]
  },
  {
   "cell_type": "code",
   "execution_count": 10,
   "id": "715121e6-10fc-4096-bf57-734ab3f23605",
   "metadata": {},
   "outputs": [
    {
     "name": "stdout",
     "output_type": "stream",
     "text": [
      "d(w,v):  5.744562646538029\n"
     ]
    }
   ],
   "source": [
    "u = np.array([1,-2,4])\n",
    "v = np.array([3,5,1])\n",
    "w = np.array([2,1,-3])\n",
    "print(\"d(w,v): \", np.linalg.norm(w-v))"
   ]
  },
  {
   "cell_type": "markdown",
   "id": "4f489571-ee85-47f9-b301-29699bbf27c1",
   "metadata": {},
   "source": [
    "$j. Find \\ d(\\textbf{u},\\textbf{w})$ <br>\n",
    "$= ||\\textbf{u} - \\textbf{w}||$ <br>\n",
    "$= \\sqrt{(1-2)^2 + (-2-1)^2 + (4+3)^2}$ <br>\n",
    "$= \\sqrt{(-1)^2 + (-3)^2 + (7)^2}$ <br>\n",
    "$= \\sqrt{1 + 9 + 49}$ <br>\n",
    "$= \\sqrt{59}$"
   ]
  },
  {
   "cell_type": "code",
   "execution_count": 11,
   "id": "ddd2cd74-e5db-478e-a1ac-7a30e2cc6a78",
   "metadata": {},
   "outputs": [
    {
     "name": "stdout",
     "output_type": "stream",
     "text": [
      "d(u,w):  7.681145747868608\n"
     ]
    }
   ],
   "source": [
    "u = np.array([1,-2,4])\n",
    "v = np.array([3,5,1])\n",
    "w = np.array([2,1,-3])\n",
    "print(\"d(u,w): \", np.linalg.norm(u-w))"
   ]
  },
  {
   "cell_type": "markdown",
   "id": "70a7c0db-22eb-4f8e-bd87-f94171632e9c",
   "metadata": {},
   "source": [
    "$k. Find \\ proj(\\textbf{u},\\textbf{v})$ <br>\n",
    "$= \\frac{\\textbf{u}.\\textbf{v}}{||\\textbf{v}||^2} \\textbf{v} $ <br>\n",
    "$\\textbf{u}.\\textbf{v} = -3$<br>\n",
    "$||\\textbf{v}|| =\\sqrt{35}$<br>\n",
    "$proj(\\textbf{u},\\textbf{v}) = \\frac{-3}{\\sqrt{35}^2}(3,5,1) $<br>\n",
    "$= [\\frac{-9}{35}, \\frac{-15}{35}, \\frac{-3}{35}]$ <br>\n",
    "$= [\\frac{-9}{35}, \\frac{-3}{7}, \\frac{-3}{35}]$ <br>"
   ]
  },
  {
   "cell_type": "code",
   "execution_count": 12,
   "id": "824f267a-a0bd-41e9-b2f8-1154dd6fe07a",
   "metadata": {},
   "outputs": [
    {
     "name": "stdout",
     "output_type": "stream",
     "text": [
      "proj(u,v):  [-0.25714286 -0.42857143 -0.08571429]\n"
     ]
    }
   ],
   "source": [
    "u = np.array([1,-2,4])\n",
    "v = np.array([3,5,1])\n",
    "w = np.array([2,1,-3])\n",
    "print(\"proj(u,v): \", u.dot(v)*v / (np.linalg.norm(v)**2))"
   ]
  },
  {
   "cell_type": "markdown",
   "id": "187e35b4-d5a6-4169-b260-8f8b13deb6d7",
   "metadata": {},
   "source": [
    "$l. Find \\ proj(\\textbf{w},\\textbf{v})$ <br>\n",
    "$= \\frac{\\textbf{w}.\\textbf{v}}{||\\textbf{v}||^2} \\textbf{v} $ <br>\n",
    "$\\textbf{w}.\\textbf{v} = 8$<br>\n",
    "$||\\textbf{v}|| =\\sqrt{35}$<br>\n",
    "$proj(\\textbf{u},\\textbf{v}) = \\frac{8}{\\sqrt{35}^2}(3,5,1) $<br>\n",
    "$= (\\frac{24}{35}, \\frac{40}{35}, \\frac{8}{35})$ <br>\n",
    "$= (\\frac{24}{35}, \\frac{8}{7}, \\frac{8}{35})$ <br>"
   ]
  },
  {
   "cell_type": "code",
   "execution_count": 13,
   "id": "64ba9e9f-32f6-43e7-b1cd-14c217943d92",
   "metadata": {},
   "outputs": [
    {
     "name": "stdout",
     "output_type": "stream",
     "text": [
      "proj(w,v):  [0.68571429 1.14285714 0.22857143]\n"
     ]
    }
   ],
   "source": [
    "u = np.array([1,-2,4])\n",
    "v = np.array([3,5,1])\n",
    "w = np.array([2,1,-3])\n",
    "print(\"proj(w,v): \", w.dot(v)*v / (np.linalg.norm(v)**2))"
   ]
  },
  {
   "cell_type": "markdown",
   "id": "a700915f-ac6c-4fff-ab1b-21f30ba7c26b",
   "metadata": {},
   "source": [
    "$m. Find \\ proj(\\textbf{u},\\textbf{w})$ <br>\n",
    "$= \\frac{\\textbf{u}.\\textbf{w}}{||\\textbf{w}||^2} v $ <br>\n",
    "$\\textbf{u}.\\textbf{w} = -12$<br>\n",
    "$||\\textbf{w}|| =\\sqrt{14}$<br>\n",
    "$proj(\\textbf{u},\\textbf{w}) = \\frac{-12}{\\sqrt{14}^2}(2,1,-3) $<br>\n",
    "$= (\\frac{-24}{14}, \\frac{-12}{14}, \\frac{36}{14})$ <br>\n",
    "$= (\\frac{-12}{7}, \\frac{-6}{7}, \\frac{18}{7})$ <br>"
   ]
  },
  {
   "cell_type": "code",
   "execution_count": 14,
   "id": "a90a7115-24df-4633-b49a-0588e174d14e",
   "metadata": {},
   "outputs": [
    {
     "name": "stdout",
     "output_type": "stream",
     "text": [
      "proj(u,w):  [-1.71428571 -0.85714286  2.57142857]\n"
     ]
    }
   ],
   "source": [
    "u = np.array([1,-2,4])\n",
    "v = np.array([3,5,1])\n",
    "w = np.array([2,1,-3])\n",
    "print(\"proj(u,w): \", u.dot(w)*w / (np.linalg.norm(w)**2))"
   ]
  },
  {
   "cell_type": "markdown",
   "id": "20d8e0dd-0a29-48af-9879-7ced7b70745e",
   "metadata": {},
   "source": [
    "$2. $ Repeat problem 1 with the following column vectors: <br>\n",
    " $\\textbf{u}$ = $\\begin{bmatrix}          \n",
    "           1 \\\\\n",
    "           3 \\\\\n",
    "           -4\n",
    "           \\end{bmatrix}$\n",
    " $\\textbf{v}$ = $\\begin{bmatrix}\n",
    "           2 \\\\\n",
    "           1 \\\\\n",
    "           5\n",
    "           \\end{bmatrix}$\n",
    " $\\textbf{w}$ =  $\\begin{bmatrix}\n",
    "           3 \\\\\n",
    "           -2 \\\\\n",
    "           6\n",
    "           \\end{bmatrix}$\n",
    "\n",
    "$a. 3\\textbf{u} - 2\\textbf{v}$ <br>\n",
    "$= 3\\begin{bmatrix}          \n",
    "           1 \\\\\n",
    "           3 \\\\\n",
    "           -4\n",
    "           \\end{bmatrix}$ -\n",
    "           $2\\begin{bmatrix}\n",
    "           2 \\\\\n",
    "           1 \\\\\n",
    "           5\n",
    "           \\end{bmatrix}$ <br>\n",
    "$= \\begin{bmatrix}          \n",
    "           3 \\\\\n",
    "           9 \\\\\n",
    "           -12\n",
    "           \\end{bmatrix}$ -\n",
    "           $\\begin{bmatrix}\n",
    "           4 \\\\\n",
    "           2 \\\\\n",
    "           10\n",
    "           \\end{bmatrix}$ <br>  \n",
    "$= \\begin{bmatrix}          \n",
    "           -1 \\\\\n",
    "           7\\\\\n",
    "           -22\n",
    "           \\end{bmatrix}$ \n"
   ]
  },
  {
   "cell_type": "code",
   "execution_count": 15,
   "id": "33b7326e-1b90-4227-9a66-2b4a43b1cee7",
   "metadata": {},
   "outputs": [
    {
     "name": "stdout",
     "output_type": "stream",
     "text": [
      "3u-2v =  [ -1   7 -22]\n"
     ]
    }
   ],
   "source": [
    "u = np.array([1,3,-4])\n",
    "v = np.array([2,1,5])\n",
    "w = np.array([3,-2,6])\n",
    "print(\"3u-2v = \", (3*u) - (2*v))"
   ]
  },
  {
   "cell_type": "markdown",
   "id": "825a5995-b7cc-4f6d-ac02-6842a89749fe",
   "metadata": {},
   "source": [
    "$b. 5\\textbf{u} + 3\\textbf{v} - 4\\textbf{w}$ <br>\n",
    "$= 5\\begin{bmatrix}          \n",
    "           1 \\\\\n",
    "           3 \\\\\n",
    "           -4\n",
    "           \\end{bmatrix}$ +\n",
    "           $3\\begin{bmatrix}\n",
    "           2 \\\\\n",
    "           1 \\\\\n",
    "           5\n",
    "           \\end{bmatrix}$  +\n",
    "           $4\\begin{bmatrix}\n",
    "           3 \\\\\n",
    "           -2\\\\ \n",
    "           6\n",
    "           \\end{bmatrix}$<br>\n",
    "$= \\begin{bmatrix}          \n",
    "           5 \\\\\n",
    "           15 \\\\\n",
    "           -20\n",
    "           \\end{bmatrix}$ +\n",
    "           $\\begin{bmatrix}\n",
    "           6 \\\\\n",
    "           3 \\\\\n",
    "           15\n",
    "           \\end{bmatrix}$ - \n",
    "           $\\begin{bmatrix}\n",
    "           12\\\\\n",
    "           -8\\\\\n",
    "           24\n",
    "           \\end{bmatrix} $<br>  \n",
    " $= \\begin{bmatrix}          \n",
    "           -1 \\\\\n",
    "           26\\\\\n",
    "           -29\n",
    "           \\end{bmatrix}$ "
   ]
  },
  {
   "cell_type": "code",
   "execution_count": 16,
   "id": "6e8c4e80-36a1-4952-a1aa-29c12a35755a",
   "metadata": {},
   "outputs": [
    {
     "name": "stdout",
     "output_type": "stream",
     "text": [
      "5u + 3v - 4w =  [ -1  26 -29]\n"
     ]
    }
   ],
   "source": [
    "u = np.array([1,3,-4])\n",
    "v = np.array([2,1,5])\n",
    "w = np.array([3,-2,6])\n",
    "print(\"5u + 3v - 4w = \", (5*u) + (3*v) - (4*w))"
   ]
  },
  {
   "cell_type": "markdown",
   "id": "3296538f-adbc-4ed4-a2a7-65aec2ef2b6e",
   "metadata": {},
   "source": [
    "$c. \\textbf{u} . \\textbf{v}, \\textbf{v} . \\textbf{w}, \\textbf{u} . \\textbf{w}$<br>\n",
    "$\\textbf{u} . \\textbf{v} = \\begin{bmatrix}          \n",
    "           1 \\\\\n",
    "           3 \\\\\n",
    "           -4\n",
    "           \\end{bmatrix}$ .\n",
    "           $\\begin{bmatrix}\n",
    "           2 \\\\\n",
    "           1 \\\\\n",
    "           5\n",
    "           \\end{bmatrix}$ <br>\n",
    "$= \\begin{bmatrix}          \n",
    "           2 \\\\\n",
    "           3 \\\\\n",
    "           -20\n",
    "           \\end{bmatrix}$ <br>\n",
    "$= -15$<br>\n",
    "$\\textbf{v} . \\textbf{w} =  \\begin{bmatrix}          \n",
    "           2 \\\\\n",
    "           1 \\\\\n",
    "           5\n",
    "           \\end{bmatrix}$ .\n",
    "           $\\begin{bmatrix}\n",
    "           3 \\\\\n",
    "           -2 \\\\\n",
    "           6\n",
    "           \\end{bmatrix}$ <br>\n",
    "$= \\begin{bmatrix}          \n",
    "           6 \\\\\n",
    "           -2 \\\\\n",
    "           30\n",
    "           \\end{bmatrix}$ <br>\n",
    "$= 34$<br>\n",
    "$\\textbf{u} . \\textbf{w} = \\begin{bmatrix}          \n",
    "           1 \\\\\n",
    "           3 \\\\\n",
    "           -4\n",
    "           \\end{bmatrix}$ .\n",
    "           $\\begin{bmatrix}\n",
    "           3 \\\\\n",
    "           -2 \\\\\n",
    "           6\n",
    "           \\end{bmatrix}$ <br>\n",
    "$= \\begin{bmatrix}          \n",
    "           3 \\\\\n",
    "           -6 \\\\\n",
    "           -24\n",
    "           \\end{bmatrix}$ <br>\n",
    "$= -27$<br>"
   ]
  },
  {
   "cell_type": "code",
   "execution_count": 17,
   "id": "6a8d138b-1607-42bb-812d-4ce6e4e54a3a",
   "metadata": {},
   "outputs": [
    {
     "name": "stdout",
     "output_type": "stream",
     "text": [
      "u.v:  -15\n",
      "v.w:  34\n",
      "u.w:  -27\n"
     ]
    }
   ],
   "source": [
    "u = np.array([1,3,-4])\n",
    "v = np.array([2,1,5])\n",
    "w = np.array([3,-2,6])\n",
    "print(\"u.v: \", u.dot(v))\n",
    "print(\"v.w: \", v.dot(w))\n",
    "print(\"u.w: \", u.dot(w))"
   ]
  },
  {
   "cell_type": "markdown",
   "id": "389e99b6-7e9c-4500-b736-1eb72cf1c4ce",
   "metadata": {},
   "source": [
    "$d. ||\\textbf{u}||, ||\\textbf{v}||, ||\\textbf{w}||$ <br>\n",
    "$||\\textbf{u}|| = \\sqrt{1^2 + 3^2 + (-4)^2}$ <br>\n",
    "$= \\sqrt{1 + 9 + 16} $ <br>\n",
    "$= \\sqrt{26} $<br>\n",
    "$||\\textbf{v}|| = \\sqrt{2^2 + 1^2 + 5^2}$ <br>\n",
    "$= \\sqrt{4 + 1 + 25}$ <br>\n",
    "$= \\sqrt{30}$ <br>\n",
    "$||\\textbf{w}|| = \\sqrt{3^2 + (-2)^2 + 6^2}$<br>\n",
    "$= \\sqrt{9 + 4 + 36}$ <br>\n",
    "$= \\sqrt{49}$ <br>\n",
    "$= 7$ <br>"
   ]
  },
  {
   "cell_type": "code",
   "execution_count": 18,
   "id": "ad10747c-ee6f-4c7d-b57e-5f7bed976acf",
   "metadata": {},
   "outputs": [
    {
     "name": "stdout",
     "output_type": "stream",
     "text": [
      "||u||:  5.0990195135927845\n",
      "||v||:  5.477225575051661\n",
      "||w||:  7.0\n"
     ]
    }
   ],
   "source": [
    "u = np.array([1,3,-4])\n",
    "v = np.array([2,1,5])\n",
    "w = np.array([3,-2,6])\n",
    "print(\"||u||: \",np.sqrt(u.dot(u)))\n",
    "print(\"||v||: \",np.sqrt(v.dot(v)))\n",
    "print(\"||w||: \",np.sqrt(w.dot(w)))"
   ]
  },
  {
   "cell_type": "markdown",
   "id": "d5004c9f-ea73-4ea7-a900-386b39958237",
   "metadata": {},
   "source": [
    "$e. If \\ {\\theta}$ is the angle between $\\textbf{u} \\ and \\ \\textbf{v}$, find $\\cos{\\theta}.$  <br>\n",
    "$cos \\ {\\theta} = \\frac{\\textbf{u} \\cdotp \\textbf{v}}{||\\textbf{u}|| \\ ||\\textbf{v}||}$ <br>\n",
    "$\\textbf{u}.\\textbf{v} = -15$<br>\n",
    "$||\\textbf{u}|| =\\sqrt{26}$<br>\n",
    "$||\\textbf{v}|| =\\sqrt{30}$<br>\n",
    "$= \\frac{-15}{\\sqrt{26}\\sqrt{30}}$ <br>"
   ]
  },
  {
   "cell_type": "code",
   "execution_count": 19,
   "id": "2e69ecd1-ee88-4ed1-9f11-49bcf3647f47",
   "metadata": {},
   "outputs": [
    {
     "name": "stdout",
     "output_type": "stream",
     "text": [
      "angle:  -0.5370861555295747\n"
     ]
    }
   ],
   "source": [
    "u = np.array([1,3,-4])\n",
    "v = np.array([2,1,5])\n",
    "w = np.array([3,-2,6])\n",
    "print(\"angle: \", u.dot(v) / (np.linalg.norm(u) * np.linalg.norm(v)))"
   ]
  },
  {
   "cell_type": "markdown",
   "id": "269743bf-0b64-4ba2-af4e-5bff3b005903",
   "metadata": {},
   "source": [
    "$f. If \\ \\alpha$ is the angle between $\\textbf{v} \\ and \\ \\textbf{w}$, find $\\cos{\\alpha}.$ <br>\n",
    "$cos \\ {\\alpha} = \\frac{\\textbf{v} \\cdotp \\textbf{w}}{||\\textbf{v}|| \\ ||\\textbf{w}||}$ <br>\n",
    "$\\textbf{v}.\\textbf{w} = 34$<br>\n",
    "$||\\textbf{v}|| =\\sqrt{30}$<br>\n",
    "$||\\textbf{w}|| =7$<br>\n",
    "$= \\frac{34}{\\sqrt{30}(7)}$ <br>\n"
   ]
  },
  {
   "cell_type": "code",
   "execution_count": 20,
   "id": "2c2668f4-10c7-4c6c-a670-027045fd4cf5",
   "metadata": {},
   "outputs": [
    {
     "name": "stdout",
     "output_type": "stream",
     "text": [
      "angle:  0.8867889026274118\n"
     ]
    }
   ],
   "source": [
    "u = np.array([1,3,-4])\n",
    "v = np.array([2,1,5])\n",
    "w = np.array([3,-2,6])\n",
    "print(\"angle: \", v.dot(w) / (np.linalg.norm(v) * np.linalg.norm(w)))"
   ]
  },
  {
   "cell_type": "markdown",
   "id": "b3439a70-40ab-47f5-af59-ac491a52d16e",
   "metadata": {},
   "source": [
    "$g. If \\ \\beta$ is the angle between $\\textbf{u} \\ and \\ \\textbf{w}$, find $\\cos{\\beta}.$ <br>\n",
    "$cos{\\beta} = \\frac{\\textbf{u} \\cdotp \\textbf{w}}{||\\textbf{u}|| \\ ||\\textbf{w}||}$ <br>\n",
    "$\\textbf{u}.\\textbf{w} = -27$<br>\n",
    "$||\\textbf{u}|| =\\sqrt{26}$<br>\n",
    "$||\\textbf{w}|| =7$<br>\n",
    "$= \\frac{-27}{\\sqrt{26}(7)}$ <br>"
   ]
  },
  {
   "cell_type": "code",
   "execution_count": 21,
   "id": "9727717a-2b5d-4ff4-8e15-97a13b1ab0d0",
   "metadata": {},
   "outputs": [
    {
     "name": "stdout",
     "output_type": "stream",
     "text": [
      "angle:  -0.7564479498187099\n"
     ]
    }
   ],
   "source": [
    "u = np.array([1,3,-4])\n",
    "v = np.array([2,1,5])\n",
    "w = np.array([3,-2,6])\n",
    "print(\"angle: \", u.dot(w) / (np.linalg.norm(u) * np.linalg.norm(w)))"
   ]
  },
  {
   "cell_type": "markdown",
   "id": "fa2de187-7de1-442d-a281-20ba46870ce7",
   "metadata": {},
   "source": [
    "$h. Find \\ d(\\textbf{u},\\textbf{v})$ <br>\n",
    "$= ||\\textbf{u} - \\textbf{v}||$ <br>\n",
    "$= \\sqrt{(1-2)^2 + (3-1)^2 + (-4-5)^2}$ <br>\n",
    "$= \\sqrt{(-1)^2 + (2)^2 + (-9)^2}$ <br>\n",
    "$= \\sqrt{1 + 4 + 81}$ <br>\n",
    "$= \\sqrt{86}$"
   ]
  },
  {
   "cell_type": "code",
   "execution_count": 22,
   "id": "ce4b196f-486c-4ec2-88e0-ea4edb99deb1",
   "metadata": {},
   "outputs": [
    {
     "name": "stdout",
     "output_type": "stream",
     "text": [
      "d(u,v):  9.273618495495704\n"
     ]
    }
   ],
   "source": [
    "u = np.array([1,3,-4])\n",
    "v = np.array([2,1,5])\n",
    "w = np.array([3,-2,6])\n",
    "print(\"d(u,v): \", np.linalg.norm(u-v))"
   ]
  },
  {
   "cell_type": "markdown",
   "id": "d35f3415-72ae-43cb-8019-64a23ab55864",
   "metadata": {},
   "source": [
    "$i. Find \\ d(\\textbf{w},\\textbf{v})$ <br>\n",
    "$= ||\\textbf{w} - \\textbf{v}||$ <br>\n",
    "$= \\sqrt{(3-2)^2 + (-2-1)^2 + (6-5)^2}$ <br>\n",
    "$= \\sqrt{(1)^2 + (-3)^2 + (1)^2}$ <br>\n",
    "$= \\sqrt{1 + 9 + 1}$ <br>\n",
    "$= \\sqrt{11}$"
   ]
  },
  {
   "cell_type": "code",
   "execution_count": 23,
   "id": "2958a012-609c-40b2-b235-a2251454af2e",
   "metadata": {},
   "outputs": [
    {
     "name": "stdout",
     "output_type": "stream",
     "text": [
      "d(w,v):  3.3166247903554\n"
     ]
    }
   ],
   "source": [
    "u = np.array([1,3,-4])\n",
    "v = np.array([2,1,5])\n",
    "w = np.array([3,-2,6])\n",
    "print(\"d(w,v): \", np.linalg.norm(w-v))"
   ]
  },
  {
   "cell_type": "markdown",
   "id": "cd3925ea-1476-4e42-a3d9-5736220ee901",
   "metadata": {},
   "source": [
    "$j. Find \\ d(\\textbf{u},\\textbf{w})$ <br>\n",
    "$= ||\\textbf{u} - \\textbf{w}||$ <br>\n",
    "$= \\sqrt{(1-3)^2 + (3-(-2))^2 + (-4-6)^2}$ <br>\n",
    "$= \\sqrt{(-2)^2 + 5^2 + (-10)^2}$ <br>\n",
    "$= \\sqrt{4 + 25 + 100}$ <br>\n",
    "$= \\sqrt{129}$"
   ]
  },
  {
   "cell_type": "code",
   "execution_count": 24,
   "id": "faab60bb-758a-4358-a95b-68b95ac23434",
   "metadata": {},
   "outputs": [
    {
     "name": "stdout",
     "output_type": "stream",
     "text": [
      "d(u,w):  11.357816691600547\n"
     ]
    }
   ],
   "source": [
    "u = np.array([1,3,-4])\n",
    "v = np.array([2,1,5])\n",
    "w = np.array([3,-2,6])\n",
    "print(\"d(u,w): \", np.linalg.norm(u-w))"
   ]
  },
  {
   "cell_type": "markdown",
   "id": "d6231e52-97bc-435c-8a38-a327cff3abef",
   "metadata": {},
   "source": [
    "$k. Find \\ proj(\\textbf{u},\\textbf{v})$ <br>\n",
    "$= \\frac{\\textbf{u}.\\textbf{v}}{||\\textbf{v}||^2} \\textbf{v} $ <br>\n",
    "$\\textbf{u}.\\textbf{v} = -15$<br>\n",
    "$||\\textbf{v}|| =\\sqrt{30}$<br>\n",
    "$proj(\\textbf{u},\\textbf{v}) = \\frac{-15}{\\sqrt{30}^2}(2,1,5) $<br>\n",
    "$= (\\frac{-30}{30}, \\frac{-15}{30}, \\frac{-75}{30})$ <br>\n",
    "$= (-1, \\frac{-1}{2}, \\frac{-15}{6})$ <br>"
   ]
  },
  {
   "cell_type": "code",
   "execution_count": 25,
   "id": "85a6e5da-de53-4357-9a77-29b0daa67e5a",
   "metadata": {},
   "outputs": [
    {
     "name": "stdout",
     "output_type": "stream",
     "text": [
      "proj(u,v):  [-1.  -0.5 -2.5]\n"
     ]
    }
   ],
   "source": [
    "u = np.array([1,3,-4])\n",
    "v = np.array([2,1,5])\n",
    "w = np.array([3,-2,6])\n",
    "print(\"proj(u,v): \", u.dot(v)*v / (np.linalg.norm(v)**2))"
   ]
  },
  {
   "cell_type": "markdown",
   "id": "cdf36c57-32e1-4d6f-bf8d-39506934cd82",
   "metadata": {},
   "source": [
    "$l. Find \\ proj(\\textbf{w},\\textbf{v})$ <br>\n",
    "$=\\frac{\\textbf{w}.\\textbf{v}}{||\\textbf{v}||^2} \\textbf{v} $ <br>\n",
    "$\\textbf{w}.\\textbf{v} = 34$<br>\n",
    "$||\\textbf{v}|| =\\sqrt{30}$<br>\n",
    "$proj(\\textbf{w},\\textbf{v}) = \\frac{34}{\\sqrt{30}^2}(2,1,5) $<br>\n",
    "$= (\\frac{68}{30}, \\frac{34}{30}, \\frac{170}{30})$ <br>\n",
    "$= (\\frac{34}{15}, \\frac{17}{15}, \\frac{17}{3})$ <br>"
   ]
  },
  {
   "cell_type": "code",
   "execution_count": 26,
   "id": "89db5798-af4c-436e-9c94-0de238b04b79",
   "metadata": {},
   "outputs": [
    {
     "name": "stdout",
     "output_type": "stream",
     "text": [
      "proj(w,v):  [2.26666667 1.13333333 5.66666667]\n"
     ]
    }
   ],
   "source": [
    "u = np.array([1,3,-4])\n",
    "v = np.array([2,1,5])\n",
    "w = np.array([3,-2,6])\n",
    "print(\"proj(w,v): \", w.dot(v)*v / (np.linalg.norm(v)**2))"
   ]
  },
  {
   "cell_type": "markdown",
   "id": "efab4148-5720-4d09-bfa2-8b6d9fcfa7dd",
   "metadata": {},
   "source": [
    "$m. Find \\ proj(\\textbf{u},\\textbf{w})$ <br>\n",
    "$\\frac{\\textbf{u}.\\textbf{w}}{||\\textbf{w}||^2} \\textbf{v} $ <br>\n",
    "$\\textbf{u}.\\textbf{w} = -27$<br>\n",
    "$||\\textbf{w}|| = 7$<br>\n",
    "$proj(\\textbf{u},\\textbf{w}) = \\frac{-27}{7^2}(3,-2,6) $<br>\n",
    "$(\\frac{-81}{49}, \\frac{54}{49}, \\frac{-162}{49})$ <br>"
   ]
  },
  {
   "cell_type": "code",
   "execution_count": 27,
   "id": "47e9be09-b8f0-4042-9ded-f782bcead7e2",
   "metadata": {},
   "outputs": [
    {
     "name": "stdout",
     "output_type": "stream",
     "text": [
      "proj(u,w):  [-1.65306122  1.10204082 -3.30612245]\n"
     ]
    }
   ],
   "source": [
    "u = np.array([1,3,-4])\n",
    "v = np.array([2,1,5])\n",
    "w = np.array([3,-2,6])\n",
    "print(\"proj(u,w): \", u.dot(w)*w / (np.linalg.norm(w)**2))"
   ]
  },
  {
   "cell_type": "markdown",
   "id": "2b743988-de26-4b55-9eb1-ba8a8a5ebb4f",
   "metadata": {},
   "source": [
    "$3. \\ Let \\ \\textbf{u} = (2, -5, 4, 6, -3), \\textbf{v} = (5, -2, 1, -7, -4)$, and $\\textbf{w} = (2, 1, -3) find:$<br>\n",
    "$a. 4\\textbf{u} - 3\\textbf{v}$ <br>\n",
    "$= 4[2,-5,4,6,-3] - 3[5,-2,1,-7,-4]$ <br>\n",
    "$= [8,-20,16,24,-12] - [15,-6,3,-21,-12]$ <br>\n",
    "$= [8-15,-20-(-6),16-3,24-(-21),-12-(-12)]$ <br>\n",
    "$= [-7,-14,13,45,0]$ <br>"
   ]
  },
  {
   "cell_type": "code",
   "execution_count": 28,
   "id": "32c570e1-2125-4a36-b975-4c0e00dfe9ef",
   "metadata": {},
   "outputs": [
    {
     "name": "stdout",
     "output_type": "stream",
     "text": [
      "4u - 3v =  [ -7 -14  13  45   0]\n"
     ]
    }
   ],
   "source": [
    "u = np.array([2,-5,4,6,-3])\n",
    "v = np.array([5,-2,1,-7,-4])\n",
    "w = np.array([2,1,-3, 0,0])\n",
    "print(\"4u - 3v = \", (4*u) - (3*v))"
   ]
  },
  {
   "cell_type": "markdown",
   "id": "7c98c1e3-122a-4fc2-a406-022d8234f133",
   "metadata": {},
   "source": [
    "$b. \\ 5\\textbf{u} + 2\\textbf{v} - 2\\textbf{w} $ <br>\n",
    "$= 5[2,-5,4,6,-3] + 2[5,-2,1,-7,-4] - 2[2,1,-3]$ <br>\n",
    "$= [10,-25,20,30,-15] + [10,-4,2,-14,-8] - [4,2,-6]$ <br>\n",
    "$= [10+10-4,-25+(-4)-2,20+2-(-6),30+(-14),-15+(-8)]$ <br>\n",
    "$= [16,-31,28,16,-23]$ <br>"
   ]
  },
  {
   "cell_type": "code",
   "execution_count": 29,
   "id": "f8160596-eeed-4b3d-8cb4-c4a9dbb25767",
   "metadata": {},
   "outputs": [
    {
     "name": "stdout",
     "output_type": "stream",
     "text": [
      "5u + 2v - 2w =  [ 16 -31  28  16 -23]\n"
     ]
    }
   ],
   "source": [
    "u = np.array([2,-5,4,6,-3])\n",
    "v = np.array([5,-2,1,-7,-4])\n",
    "w = np.array([2,1,-3, 0,0])\n",
    "print(\"5u + 2v - 2w = \", (5*u) + (2*v) - (2*w))"
   ]
  },
  {
   "cell_type": "markdown",
   "id": "2e71cee2-0e74-400c-8be6-d87d63d0b285",
   "metadata": {},
   "source": [
    "$c. \\ \\textbf{u}.\\textbf{v}, \\textbf{v}.\\textbf{w}, \\textbf{u}.\\textbf{w}$ <br>\n",
    "$\\textbf{u}.\\textbf{v} = 2(5) + (-5)(-2) + 4(1) + 6(-7) + (-3)(-4)$ <br>\n",
    "$= 10 + 10 + 4 + (-42) + 12$ <br>\n",
    "$= -6$ <br>\n",
    "$\\textbf{v}.\\textbf{w} = 5(2) + (-2)1 + 1(-3) + (-7)0 + (-4)0$ <br>\n",
    "$= 10 + (-2) + (-3)$ <br>\n",
    "$= 5$ <br>\n",
    "$\\textbf{u}.\\textbf{w} = 2(2) + (-5)1 + 4(-3) + 6(0) + (-3)0$ <br>\n",
    "$= 4 + (-5) + (-12)$ <br>\n",
    "$= -13$ <br>"
   ]
  },
  {
   "cell_type": "code",
   "execution_count": 30,
   "id": "9af3c5f9-31f8-4086-89d6-18324861ffa6",
   "metadata": {},
   "outputs": [
    {
     "name": "stdout",
     "output_type": "stream",
     "text": [
      "u.v:  -6\n",
      "v.w:  5\n",
      "u.w:  -13\n"
     ]
    }
   ],
   "source": [
    "u = np.array([2,-5,4,6,-3])\n",
    "v = np.array([5,-2,1,-7,-4])\n",
    "w = np.array([2,1,-3, 0,0])\n",
    "print(\"u.v: \", u.dot(v))\n",
    "print(\"v.w: \", v.dot(w))\n",
    "print(\"u.w: \", u.dot(w))"
   ]
  },
  {
   "cell_type": "markdown",
   "id": "6e41f861-c552-416f-b90a-063c9cf6aa06",
   "metadata": {},
   "source": [
    "$d. \\ ||\\textbf{u}||, ||\\textbf{v}||, ||\\textbf{w}||$ <br>\n",
    "$||\\textbf{u}|| = \\sqrt{2^2 + (-5)^2 + 4^2 + 6^2 + (-3)^2}$ <br>\n",
    "$= \\sqrt{4 + 25 + 16 + 36 + 9}$ <br>\n",
    "$= \\sqrt{90}$ <br>\n",
    "$||\\textbf{v}|| = \\sqrt{5^2 + (-2)^2 + 1^2 + (-7)^2 + (-4)^2}$ <br>\n",
    "$= \\sqrt{25 + 4 + 1 + 49 + 16}$ <br>\n",
    "$= \\sqrt{95}$ <br>\n",
    "$||\\textbf{w}|| = \\sqrt{2^2 + 1^2 + (-3)^2}$<br>\n",
    "$= \\sqrt{4 + 1 + 9}$ <br>\n",
    "$= \\sqrt{14}$ <br>"
   ]
  },
  {
   "cell_type": "code",
   "execution_count": 31,
   "id": "97684c75-50a5-4bc2-bce8-df5d4ac5a49a",
   "metadata": {},
   "outputs": [
    {
     "name": "stdout",
     "output_type": "stream",
     "text": [
      "||u||:  9.486832980505138\n",
      "||v||:  9.746794344808963\n",
      "||w||:  3.7416573867739413\n"
     ]
    }
   ],
   "source": [
    "u = np.array([2,-5,4,6,-3])\n",
    "v = np.array([5,-2,1,-7,-4])\n",
    "w = np.array([2,1,-3, 0,0])\n",
    "print(\"||u||: \",np.sqrt(u.dot(u)))\n",
    "print(\"||v||: \",np.sqrt(v.dot(v)))\n",
    "print(\"||w||: \",np.sqrt(w.dot(w)))"
   ]
  },
  {
   "cell_type": "markdown",
   "id": "e7bc5303-0a63-476f-8582-e8cbe4b4620f",
   "metadata": {},
   "source": [
    "$e.$ If ${\\theta}$ is the angle between $\\textbf{u} \\ and \\ \\textbf{v}$, find $\\cos{\\theta}.$  <br>\n",
    "$cos \\ {\\theta} = \\frac{\\textbf{u} \\cdotp \\textbf{v}}{||\\textbf{u}|| \\ ||\\textbf{v}||}$ <br>\n",
    "$\\textbf{u}.\\textbf{v} = -6$<br>\n",
    "$||\\textbf{u}|| =\\sqrt{90}$<br>\n",
    "$||\\textbf{v}|| =\\sqrt{95}$<br>\n",
    "$cos \\ {\\theta} = \\frac{-6}{\\sqrt{90}\\sqrt{95}}$ <br>"
   ]
  },
  {
   "cell_type": "code",
   "execution_count": 32,
   "id": "661f9203-7a0f-453a-93f0-5f4311f7665f",
   "metadata": {},
   "outputs": [
    {
     "name": "stdout",
     "output_type": "stream",
     "text": [
      "angle:  -0.06488856845230502\n"
     ]
    }
   ],
   "source": [
    "u = np.array([2,-5,4,6,-3])\n",
    "v = np.array([5,-2,1,-7,-4])\n",
    "w = np.array([2,1,-3, 0,0])\n",
    "print(\"angle: \", u.dot(v) / (np.linalg.norm(u) * np.linalg.norm(v)))"
   ]
  },
  {
   "cell_type": "markdown",
   "id": "d19ea177-f88b-4da8-88bc-b8dd9000d24d",
   "metadata": {},
   "source": [
    "$f.$ If $\\alpha$ is the angle between $\\textbf{v} \\ and \\ \\textbf{w}$, find $\\cos{\\alpha}.$ <br>\n",
    "$cos \\ {\\alpha} = \\frac{\\textbf{v} \\cdotp \\textbf{w}}{||\\textbf{v}|| \\ ||\\textbf{w}||}$ <br>\n",
    "$\\textbf{v}.\\textbf{w} = 5$<br>\n",
    "$||\\textbf{v}|| =\\sqrt{95}$<br>\n",
    "$||\\textbf{w}|| =\\sqrt{14}$<br>\n",
    "$cos \\ {\\alpha} = \\frac{5}{\\sqrt{95}\\sqrt{14}}$ <br>"
   ]
  },
  {
   "cell_type": "code",
   "execution_count": 33,
   "id": "f05c4f07-17f4-4e52-a2b7-05a32d01a3d9",
   "metadata": {},
   "outputs": [
    {
     "name": "stdout",
     "output_type": "stream",
     "text": [
      "angle:  0.13710212427677046\n"
     ]
    }
   ],
   "source": [
    "u = np.array([2,-5,4,6,-3])\n",
    "v = np.array([5,-2,1,-7,-4])\n",
    "w = np.array([2,1,-3, 0,0])\n",
    "print(\"angle: \", v.dot(w) / (np.linalg.norm(v) * np.linalg.norm(w)))"
   ]
  },
  {
   "cell_type": "markdown",
   "id": "c8072242-504f-4eec-a8b3-b6fd2bbb3a4e",
   "metadata": {},
   "source": [
    "$g.$ If $\\beta$ is the angle between $\\textbf{u} \\ and \\ \\textbf{w}$, find $\\cos{\\beta}.$ <br>\n",
    "$cos \\ {\\beta} = \\frac{\\textbf{u} \\cdotp \\textbf{w}}{||\\textbf{u}|| \\ ||\\textbf{w}||}$ <br>\n",
    "$\\textbf{u}.\\textbf{w} = -13$<br>\n",
    "$||\\textbf{u}|| =\\sqrt{90}$<br>\n",
    "$||\\textbf{w}|| =\\sqrt{14}$<br>\n",
    "$cos \\ {\\beta} = \\frac{-13}{\\sqrt{90}\\sqrt{14}}$ <br>"
   ]
  },
  {
   "cell_type": "code",
   "execution_count": 34,
   "id": "e202f1bd-147f-4eaa-9290-970a3e223ccd",
   "metadata": {},
   "outputs": [
    {
     "name": "stdout",
     "output_type": "stream",
     "text": [
      "angle:  -0.3662335103823572\n"
     ]
    }
   ],
   "source": [
    "u = np.array([2,-5,4,6,-3])\n",
    "v = np.array([5,-2,1,-7,-4])\n",
    "w = np.array([2,1,-3, 0,0])\n",
    "print(\"angle: \", u.dot(w) / (np.linalg.norm(u) * np.linalg.norm(w)))"
   ]
  },
  {
   "cell_type": "markdown",
   "id": "5f3f5c76-a05a-41f8-8fa6-bc30099c054d",
   "metadata": {},
   "source": [
    "$h.$ Find $d(\\textbf{u},\\textbf{v})$ <br>\n",
    "$= ||\\textbf{u} - \\textbf{v}||$ <br>\n",
    "$= \\sqrt{(2-5)^2 + (-5-(-2))^2 + (4-1)^2 + (6-(-7))^2 + (-3-(-4))^2}$ <br>\n",
    "$= \\sqrt{(-3)^2 + (-3)^2 + (3)^2 + (13)^2 + (1)^2}$ <br>\n",
    "$= \\sqrt{9 + 9 + 9 + 169 + 1}$ <br>\n",
    "$= \\sqrt{197}$"
   ]
  },
  {
   "cell_type": "code",
   "execution_count": 35,
   "id": "096f5898-4510-44f7-b5bb-36478494863e",
   "metadata": {},
   "outputs": [
    {
     "name": "stdout",
     "output_type": "stream",
     "text": [
      "d(u,v):  14.035668847618199\n"
     ]
    }
   ],
   "source": [
    "u = np.array([2,-5,4,6,-3])\n",
    "v = np.array([5,-2,1,-7,-4])\n",
    "w = np.array([2,1,-3, 0,0])\n",
    "print(\"d(u,v): \", np.linalg.norm(u-v))"
   ]
  },
  {
   "cell_type": "markdown",
   "id": "f0642307-f8d1-4b7a-80c8-c8ca73fe9d6e",
   "metadata": {},
   "source": [
    "$i.$ Find $d(\\textbf{w},\\textbf{v})$ <br>\n",
    "$= ||\\textbf{w} - \\textbf{v}||$ <br>\n",
    "$= \\sqrt{(2-5)^2 + (1-(-2))^2 + (-3-1)^2 + (0-(-7))^2 + (0-(-4))^2}$ <br>\n",
    "$= \\sqrt{(-3)^2 + (3)^2 + (-4)^2 + 7^2 + 4^2}$ <br>\n",
    "$= \\sqrt{9 + 9 + 16 + 49 + 16}$ <br>\n",
    "$= \\sqrt{99}$"
   ]
  },
  {
   "cell_type": "code",
   "execution_count": 36,
   "id": "23fdd2bf-9a67-4073-bb4d-06bb93fbd3a1",
   "metadata": {},
   "outputs": [
    {
     "name": "stdout",
     "output_type": "stream",
     "text": [
      "d(w,v):  9.9498743710662\n"
     ]
    }
   ],
   "source": [
    "u = np.array([2,-5,4,6,-3])\n",
    "v = np.array([5,-2,1,-7,-4])\n",
    "w = np.array([2,1,-3, 0,0])\n",
    "print(\"d(w,v): \", np.linalg.norm(w-v))"
   ]
  },
  {
   "cell_type": "markdown",
   "id": "21cff82a-7c2f-4a99-9063-8a22ae3f7798",
   "metadata": {},
   "source": [
    "$j.$ Find $d(\\textbf{u},\\textbf{w})$ <br>\n",
    "$= ||\\textbf{u} - \\textbf{w}||$ <br>\n",
    "$= \\sqrt{(2-2)^2 + (-5-1)^2 + (4-(-3))^2 + (6-0)^2 + (-3-0)^2}$ <br>\n",
    "$= \\sqrt{(0)^2 + (-6)^2 + (7)^2 + 6^2 + (-3)^2}$ <br>\n",
    "$= \\sqrt{0 + 36 + 49 + 36 + 9}$ <br>\n",
    "$= \\sqrt{130}$"
   ]
  },
  {
   "cell_type": "code",
   "execution_count": 37,
   "id": "ae5a00b9-80bc-40dd-a304-4b90c7fb2755",
   "metadata": {},
   "outputs": [
    {
     "name": "stdout",
     "output_type": "stream",
     "text": [
      "d(u,w):  11.40175425099138\n"
     ]
    }
   ],
   "source": [
    "u = np.array([2,-5,4,6,-3])\n",
    "v = np.array([5,-2,1,-7,-4])\n",
    "w = np.array([2,1,-3, 0,0])\n",
    "print(\"d(u,w): \", np.linalg.norm(u-w))"
   ]
  },
  {
   "cell_type": "markdown",
   "id": "f84c89d4-f7f1-4e91-8d80-cda6dc4f08d2",
   "metadata": {},
   "source": [
    "$k.$ Find $proj(\\textbf{u},\\textbf{v})$ <br>\n",
    "$= \\frac{\\textbf{u}.\\textbf{v}}{||\\textbf{v}||^2} \\textbf{v} $ <br>\n",
    "$\\textbf{u}.\\textbf{v} = -6$<br>\n",
    "$||\\textbf{v}|| =\\sqrt{95}$<br>\n",
    "$proj(\\textbf{u},\\textbf{v}) = \\frac{-6}{\\sqrt{95}^2}(5,-2,1,-7,-4) $<br>\n",
    "$= (\\frac{-30}{95}, \\frac{12}{95}, \\frac{-6}{95}, \\frac{42}{95}, \\frac{24}{95})$ <br>\n",
    "$= (\\frac{-6}{19}, \\frac{12}{95}, \\frac{-6}{95}, \\frac{42}{95}, \\frac{24}{95})$ <br>"
   ]
  },
  {
   "cell_type": "code",
   "execution_count": 38,
   "id": "a1d553ea-13f8-4364-a28c-fd374bdab184",
   "metadata": {},
   "outputs": [
    {
     "name": "stdout",
     "output_type": "stream",
     "text": [
      "proj(u,v):  [-0.31578947  0.12631579 -0.06315789  0.44210526  0.25263158]\n"
     ]
    }
   ],
   "source": [
    "u = np.array([2,-5,4,6,-3])\n",
    "v = np.array([5,-2,1,-7,-4])\n",
    "w = np.array([2,1,-3, 0,0])\n",
    "print(\"proj(u,v): \", u.dot(v)*v / (np.linalg.norm(v)**2))"
   ]
  },
  {
   "cell_type": "markdown",
   "id": "012dfb7a-e503-47f1-be57-4488c88e400a",
   "metadata": {},
   "source": [
    "$l.$ Find $proj(\\textbf{w},\\textbf{v})$ <br>\n",
    "$= \\frac{\\textbf{w}.\\textbf{v}}{||\\textbf{v}||^2} \\textbf{v} $ <br>\n",
    "$\\textbf{w}.\\textbf{v} = 5$<br>\n",
    "$||\\textbf{v}|| =\\sqrt{95}$<br>\n",
    "$proj(\\textbf{w},\\textbf{v}) = \\frac{5}{\\sqrt{95}^2}(5,-2,1,-7,-4) $<br>\n",
    "$= (\\frac{25}{95}, \\frac{-10}{95}, \\frac{5}{95}, \\frac{-35}{95}, \\frac{-20}{95})$ <br>\n",
    "$= (\\frac{5}{19}, \\frac{-2}{19}, \\frac{1}{19}, \\frac{-7}{19}, \\frac{-4}{19})$ <br>"
   ]
  },
  {
   "cell_type": "code",
   "execution_count": 39,
   "id": "f9d77c81-bba3-4900-b6b7-d29b457fffce",
   "metadata": {},
   "outputs": [
    {
     "name": "stdout",
     "output_type": "stream",
     "text": [
      "proj(w,v):  [ 0.26315789 -0.10526316  0.05263158 -0.36842105 -0.21052632]\n"
     ]
    }
   ],
   "source": [
    "u = np.array([2,-5,4,6,-3])\n",
    "v = np.array([5,-2,1,-7,-4])\n",
    "w = np.array([2,1,-3, 0,0])\n",
    "print(\"proj(w,v): \", w.dot(v)*v / (np.linalg.norm(v)**2))"
   ]
  },
  {
   "cell_type": "markdown",
   "id": "a8cc2f7b-a50f-42ac-a792-f3d637f62aa5",
   "metadata": {},
   "source": [
    "$m.$ Find $proj(\\textbf{u},\\textbf{w})$ <br>\n",
    "$= \\frac{\\textbf{u}.\\textbf{w}}{||\\textbf{w}||^2} \\textbf{w} $ <br>\n",
    "$\\textbf{u}.\\textbf{w} = -13$<br>\n",
    "$||\\textbf{w}|| =\\sqrt{14}$<br>\n",
    "$proj(\\textbf{u},\\textbf{w}) = \\frac{-13}{\\sqrt{14}^2}(2,1,-3) $<br>\n",
    "$= (\\frac{-26}{14}, \\frac{-13}{14}, \\frac{39}{14})$ <br>\n",
    "$= (\\frac{-13}{7}, \\frac{-13}{14}, \\frac{39}{14})$ <br>"
   ]
  },
  {
   "cell_type": "code",
   "execution_count": 40,
   "id": "feae1b17-5d20-414f-8cd4-63e56e6b9059",
   "metadata": {},
   "outputs": [
    {
     "name": "stdout",
     "output_type": "stream",
     "text": [
      "proj(u,w):  [-1.85714286 -0.92857143  2.78571429  0.          0.        ]\n"
     ]
    }
   ],
   "source": [
    "u = np.array([2,-5,4,6,-3])\n",
    "v = np.array([5,-2,1,-7,-4])\n",
    "w = np.array([2,1,-3, 0,0])\n",
    "print(\"proj(u,w): \", u.dot(w)*w / (np.linalg.norm(w)**2))"
   ]
  },
  {
   "cell_type": "markdown",
   "id": "1572dca3-e75e-4236-95f9-cbba5ad34b89",
   "metadata": {},
   "source": [
    "$4.$ Normalize each vector:<br>\n",
    "$a. \\ \\textbf{u} = (5,-7)$ <br>\n",
    "$\\textbf{u}' = \\frac{\\textbf{u}}{||\\textbf{u}||}$ <br>\n",
    "$||\\textbf{u}||= \\sqrt{5^2 + (-7)^2}$ <br>\n",
    "$= \\sqrt{25 + 49}$ <br>\n",
    "$= \\sqrt{74}$ <br>\n",
    "$\\textbf{u}' = (\\frac{5}{\\sqrt{74}}, \\frac{-7}{\\sqrt{74}})$ <br>"
   ]
  },
  {
   "cell_type": "code",
   "execution_count": 41,
   "id": "d6ac4f60-21f1-4643-9b79-0e071e613c9d",
   "metadata": {},
   "outputs": [
    {
     "name": "stdout",
     "output_type": "stream",
     "text": [
      "u':  [0.58123819 0.81373347]\n"
     ]
    }
   ],
   "source": [
    "u = np.array([5,7])\n",
    "print(\"u': \", u/np.sqrt(u.dot(u)))"
   ]
  },
  {
   "cell_type": "markdown",
   "id": "791cc685-0a4a-43e3-b507-12cf52b0b269",
   "metadata": {},
   "source": [
    "$b. \\ \\textbf{v} = (1,2,-2,4)$ <br>\n",
    "$\\textbf{v}' = \\frac{\\textbf{v}}{||\\textbf{v}||}$ <br>\n",
    "$||\\textbf{v}||= \\sqrt{1^2 + 2^2 + (-2)^2 + 4^2}$ <br>\n",
    "$= \\sqrt{1 + 4 + 4 + 16}$ <br>\n",
    "$= \\sqrt{25}$ <br>\n",
    "$= 5$ <br>\n",
    "$\\textbf{v}' = (\\frac{1}{5}, \\frac{2}{5}, \\frac{-2}{5}, \\frac{4}{5})$ <br>"
   ]
  },
  {
   "cell_type": "code",
   "execution_count": 42,
   "id": "9005d401-9963-4384-93e4-0ece148de2b6",
   "metadata": {},
   "outputs": [
    {
     "name": "stdout",
     "output_type": "stream",
     "text": [
      "v':  [ 0.2  0.4 -0.4  0.8]\n"
     ]
    }
   ],
   "source": [
    "v = np.array([1,2,-2,4])\n",
    "print(\"v': \", v/np.sqrt(v.dot(v)))"
   ]
  },
  {
   "cell_type": "markdown",
   "id": "970487fc-f18c-482b-a882-f2cdbe910da7",
   "metadata": {},
   "source": [
    "$c. \\ \\textbf{w} = (\\frac{1}{2}, \\frac{-1}{3}, \\frac{3}{4})$ <br>\n",
    "$\\textbf{w}' = \\frac{\\textbf{w}}{||\\textbf{w}||}$ <br>\n",
    "$||\\textbf{w}||= \\sqrt{(\\frac{1}{2})^2 + (\\frac{-1}{3})^2 + (\\frac{3}{4})^2}$ <br>\n",
    "$= \\sqrt{\\frac{1}{4} + \\frac{1}{9} + \\frac{9}{16}}$ <br>\n",
    "$= \\sqrt{\\frac{133}{144}}$ <br>\n",
    "$\\textbf{w}' = {\\frac{\\frac{1}{2}}{\\sqrt{\\frac{133}{144}}}, \\frac{\\frac{-1}{3}}{\\sqrt{\\frac{133}{144}}}, \\frac{\\frac{3}{4}}{\\sqrt{\\frac{133}{144}}}}$"
   ]
  },
  {
   "cell_type": "code",
   "execution_count": 43,
   "id": "3f2f3d92-e102-4056-9cd9-d0a269648cdd",
   "metadata": {},
   "outputs": [
    {
     "name": "stdout",
     "output_type": "stream",
     "text": [
      "w':  [ 0.52026598 -0.34684399  0.78039897]\n"
     ]
    }
   ],
   "source": [
    "w = np.array([1/2, -1/3, 3/4])\n",
    "print(\"w': \", w/np.sqrt(w.dot(w)))"
   ]
  },
  {
   "cell_type": "markdown",
   "id": "b04b65bd-c1fb-4fec-8102-12cd1d09faa0",
   "metadata": {},
   "source": [
    "$5.$ Let $\\textbf{u} = (1,2,-2),\\textbf{v} = (3,-12,4)$ and a scalar $\\textbf{k} = -3$: <br>\n",
    "Find $||\\textbf{u}||, ||\\textbf{v}||, ||\\textbf{u}+\\textbf{v}||, ||\\textbf{k}\\textbf{u}||$.<br>\n",
    "$||\\textbf{u}|| = \\sqrt{1^2 + 2^2 + (-2)^2}$ <br>\n",
    "$= \\sqrt{1 + 4 + 4} $ <br>\n",
    "$= \\sqrt{9} $<br>\n",
    "$= 3$<br>\n",
    "$||\\textbf{v}|| = \\sqrt{3^2 + (-12)^2 + 4^2}$ <br>\n",
    "$= \\sqrt{9 + 144 + 16}$ <br>\n",
    "$= \\sqrt{169}$ <br>\n",
    "$= 13$<br>\n",
    "$||\\textbf{u}+\\textbf{v}|| = \\sqrt{(1+3)^2 + (2+(-12))^2 + (-2+4)^2}$ <br>\n",
    "$= \\sqrt{4^2 + (-10)^2 + 2^2}$\n",
    "$= \\sqrt{16 + 100 + 4} $<br>\n",
    "$= \\sqrt{120}$<br>\n",
    "$||\\textbf{k}\\textbf{u}|| = \\sqrt{(3(-3))^2}$ <br>\n",
    "$= \\sqrt{(-9)^2}$ <br>\n",
    "$= \\sqrt{81}$ <br>\n",
    "$= 9 $"
   ]
  },
  {
   "cell_type": "code",
   "execution_count": 44,
   "id": "1e2c957b-1468-460a-a0b5-f3bf3a0717fb",
   "metadata": {},
   "outputs": [
    {
     "name": "stdout",
     "output_type": "stream",
     "text": [
      "||u||:  3.0\n",
      "||v||:  13.0\n",
      "||u+v||:  10.954451150103322\n",
      "||ku||:  9.0\n"
     ]
    }
   ],
   "source": [
    "u = np.array([1,2,-2])\n",
    "v = np.array([3,-12,4])\n",
    "k = -3\n",
    "print(\"||u||: \",np.sqrt(u.dot(u)))\n",
    "print(\"||v||: \",np.sqrt(v.dot(v)))\n",
    "print(\"||u+v||: \", np.linalg.norm(u+v))\n",
    "print(\"||ku||: \", np.linalg.norm(k*u))"
   ]
  },
  {
   "cell_type": "markdown",
   "id": "bcac838f-efda-487c-afb5-6759711b34b8",
   "metadata": {},
   "source": [
    "$6.$ Find $\\textbf{k}$ so that $\\textbf{u} \\ and \\ \\textbf{v}$ are orthogonal.<br>\n",
    "$a. \\textbf{u} = (3,\\textbf{k},-2), \\ \\textbf{v} = (6,-4,-3)$ <br>\n",
    "$= 3(6) + k(-4) + (-2)(-3) = 0$ <br>\n",
    "$= 18 + (-4\\textbf{k}) + 6 = 0$ <br>\n",
    "$= 24 = 4\\textbf{k}$ <br>\n",
    "$\\textbf{k} = 6$ <br>"
   ]
  },
  {
   "cell_type": "code",
   "execution_count": 45,
   "id": "625e829b-2bc9-4bb9-b24d-9e62465a02ff",
   "metadata": {},
   "outputs": [
    {
     "name": "stdout",
     "output_type": "stream",
     "text": [
      "Dot product if k = 6:  0.0\n"
     ]
    }
   ],
   "source": [
    "k = 6\n",
    "u = np.array([3, k, -2])\n",
    "v = np.array([6, -4, -3])\n",
    "print(\"Dot product if k = 6: \", np.dot(u, v) / np.dot(u, u))"
   ]
  },
  {
   "cell_type": "markdown",
   "id": "33d309a9-6d06-400f-9f83-2e430f280144",
   "metadata": {},
   "source": [
    "$b. \\ \\textbf{u} = (5,\\textbf{k},-4,2), \\textbf{v} = (1,-3,2,2\\textbf{k})$ <br>\n",
    "$= 5(1) + \\textbf{k}(-3) + (-4)2 + 2(2\\textbf{k}) = 0$ <br>\n",
    "$= 5 + (-3\\textbf{k}) + (-8) + 4\\textbf{k} = 0$ <br>\n",
    "$= \\textbf{k} - 3 = 0$ <br>\n",
    "$\\textbf{k} = 3$ <br>"
   ]
  },
  {
   "cell_type": "code",
   "execution_count": 46,
   "id": "b0647015-8188-4639-9287-13b1c319b60b",
   "metadata": {},
   "outputs": [
    {
     "name": "stdout",
     "output_type": "stream",
     "text": [
      "Dot product if k = 3:  0.0\n"
     ]
    }
   ],
   "source": [
    "k = 3\n",
    "u = np.array([5, k, -4, 2])\n",
    "v = np.array([1, -3, 2, 2*k])\n",
    "print(\"Dot product if k = 3: \", np.dot(u, v) / np.dot(u, u))"
   ]
  },
  {
   "cell_type": "markdown",
   "id": "98a1116f-572a-4b3c-87b8-9af7d9e3679e",
   "metadata": {},
   "source": [
    "$c. \\ \\textbf{u} = (1,7,\\textbf{k}+2, -2), \\textbf{v} = (3,\\textbf{k},-3,\\textbf{k})$ <br>\n",
    "$= 1(3) + 7(\\textbf{k}) + (\\textbf{k}+2)(-3) + (-2)\\textbf{k} = 0$ <br>\n",
    "$= 3 + 7\\textbf{k} + (-3\\textbf{k}) - 6 + (-2\\textbf{k}) = 0$ <br>\n",
    "$= 2\\textbf{k} - 3 = 0$ <br>\n",
    "$\\textbf{k} = \\frac{3}{2}$ <br>"
   ]
  },
  {
   "cell_type": "code",
   "execution_count": 47,
   "id": "17029ed7-4916-4d7e-82ee-62b1280a696a",
   "metadata": {},
   "outputs": [
    {
     "name": "stdout",
     "output_type": "stream",
     "text": [
      "Dot product if k = 3/2:  0.0\n"
     ]
    }
   ],
   "source": [
    "k = 3/2\n",
    "u = np.array([1, 7, k+2, -2])\n",
    "v = np.array([3, k, -3, k])\n",
    "print(\"Dot product if k = 3/2: \", np.dot(u, v) / np.dot(u, u))"
   ]
  }
 ],
 "metadata": {
  "kernelspec": {
   "display_name": "Python 3 (ipykernel)",
   "language": "python",
   "name": "python3"
  },
  "language_info": {
   "codemirror_mode": {
    "name": "ipython",
    "version": 3
   },
   "file_extension": ".py",
   "mimetype": "text/x-python",
   "name": "python",
   "nbconvert_exporter": "python",
   "pygments_lexer": "ipython3",
   "version": "3.12.0"
  }
 },
 "nbformat": 4,
 "nbformat_minor": 5
}
