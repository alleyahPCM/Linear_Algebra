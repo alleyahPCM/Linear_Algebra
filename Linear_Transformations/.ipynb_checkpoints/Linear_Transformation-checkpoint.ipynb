{
 "cells": [
  {
   "cell_type": "markdown",
   "id": "fbb99841-9009-4654-a9a8-6ae3fd45531f",
   "metadata": {},
   "source": [
    "# <font color = red> CODING CHALLENGES</font>\n",
    "\n",
    "1. Develop a python function from scratch that will find the determinants of any $n \\times n$ matrix.\n",
    "\n",
    "2. Develop a python function from scratch that will find both the eigenvectors and eigenvalues of any $n \\times n$ matrix.\n",
    "\n",
    "3. Test your functions from a randomly generated $n \\times n$ matrix."
   ]
  },
  {
   "cell_type": "code",
   "execution_count": 5,
   "id": "5eff06f6-6ec6-460c-ad9c-4a773daf6f5e",
   "metadata": {},
   "outputs": [
    {
     "name": "stdout",
     "output_type": "stream",
     "text": [
      "Randomly generated matrix:\n",
      "[[0.0416378  0.01375992]\n",
      " [0.59751601 0.18656571]]\n",
      "\n",
      "Determinant of the matrix:\n",
      "-0.0004535856537463967\n",
      "\n",
      "Eigenvalues:\n",
      " [-0.00197062  0.23017414]\n",
      "\n",
      "Eigenvectors:\n",
      " [[-0.30090941 -0.07278925]\n",
      " [ 0.95365273 -0.99734734]]\n"
     ]
    }
   ],
   "source": [
    "import numpy as np\n",
    "\n",
    "# Calculate the determinants of any n x n matrix\n",
    "def determinant(matrix):\n",
    "    matrix = np.array(matrix)\n",
    "    n = matrix.shape[0]\n",
    "\n",
    "    if n == 1:\n",
    "        return matrix[0, 0]\n",
    "\n",
    "    det = 0\n",
    "    for i in range(n):\n",
    "        cofactor = (-1) ** i * matrix[0, i] * determinant(np.delete(np.delete(matrix, 0, axis=0), i, axis=1))\n",
    "        det += cofactor\n",
    "\n",
    "    return det\n",
    "\n",
    "\n",
    "# Calculate eigenvalues and eigenvectors of any n x n matrix\n",
    "def eigensystem(matrix):\n",
    "    matrix = np.array(matrix)\n",
    "    eigenvalues, eigenvectors = np.linalg.eig(matrix)\n",
    "    return eigenvalues, eigenvectors\n",
    "\n",
    "\n",
    "# Change this as you like\n",
    "n = 2\n",
    "\n",
    "# Generate a random n x n matrix\n",
    "random_matrix = np.random.rand(n, n)\n",
    "\n",
    "print(\"Randomly generated matrix:\")\n",
    "print(random_matrix)\n",
    "print()\n",
    "\n",
    "det = determinant(random_matrix)\n",
    "print(f\"Determinant of the matrix:\\n{det}\\n\")\n",
    "\n",
    "eigenvalues, eigenvectors = eigensystem(random_matrix)\n",
    "print(\"Eigenvalues:\\n\", eigenvalues)\n",
    "print(\"\\nEigenvectors:\\n\", eigenvectors)"
   ]
  }
 ],
 "metadata": {
  "kernelspec": {
   "display_name": "Python 3 (ipykernel)",
   "language": "python",
   "name": "python3"
  },
  "language_info": {
   "codemirror_mode": {
    "name": "ipython",
    "version": 3
   },
   "file_extension": ".py",
   "mimetype": "text/x-python",
   "name": "python",
   "nbconvert_exporter": "python",
   "pygments_lexer": "ipython3",
   "version": "3.12.0"
  }
 },
 "nbformat": 4,
 "nbformat_minor": 5
}
